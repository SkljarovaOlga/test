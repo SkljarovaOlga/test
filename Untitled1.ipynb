{
  "nbformat": 4,
  "nbformat_minor": 0,
  "metadata": {
    "colab": {
      "provenance": []
    },
    "kernelspec": {
      "name": "python3",
      "display_name": "Python 3"
    },
    "language_info": {
      "name": "python"
    }
  },
  "cells": [
    {
      "cell_type": "code",
      "execution_count": 1,
      "metadata": {
        "id": "mGIxCuYyu_gB"
      },
      "outputs": [],
      "source": [
        "import math"
      ]
    },
    {
      "cell_type": "code",
      "source": [
        "a=5\n",
        "b=2\n",
        "print(a+b) # сложение\n",
        "print(a-b) # вычитание\n",
        "print(a*b) # умножение\n",
        "print(a/b) # деление"
      ],
      "metadata": {
        "colab": {
          "base_uri": "https://localhost:8080/"
        },
        "id": "znIq5Xl6vOTb",
        "outputId": "4d03326d-7b0f-4859-9ec0-c9f993d7a6fc"
      },
      "execution_count": 2,
      "outputs": [
        {
          "output_type": "stream",
          "name": "stdout",
          "text": [
            "7\n",
            "3\n",
            "10\n",
            "2.5\n"
          ]
        }
      ]
    },
    {
      "cell_type": "code",
      "source": [
        "a=5\n",
        "b=2\n",
        "print(a>b) # больше\n",
        "print(a<b) # меньше\n",
        "print(a==b) # равно\n",
        "print(a!=b) # не равно"
      ],
      "metadata": {
        "colab": {
          "base_uri": "https://localhost:8080/"
        },
        "id": "KkPb3nUovxG6",
        "outputId": "0f12392d-0ea5-4c8e-b7b6-01d95bf67f05"
      },
      "execution_count": 5,
      "outputs": [
        {
          "output_type": "stream",
          "name": "stdout",
          "text": [
            "True\n",
            "False\n",
            "False\n",
            "True\n"
          ]
        }
      ]
    },
    {
      "cell_type": "code",
      "source": [
        "print(\"Hello, world! My name is Olga Sklyarova\")\n",
        "x=input(\"Введите число:\")\n",
        "print(\"Вы ввели число\"+x)"
      ],
      "metadata": {
        "colab": {
          "base_uri": "https://localhost:8080/"
        },
        "id": "51eNZApH0Ayt",
        "outputId": "7fd70a76-0171-4fde-f59d-4a447cf328cc"
      },
      "execution_count": 6,
      "outputs": [
        {
          "output_type": "stream",
          "name": "stdout",
          "text": [
            "Hello, world! My name is Olga Sklyarova\n",
            "Введите число:5\n",
            "Вы ввели число5\n"
          ]
        }
      ]
    }
  ]
}